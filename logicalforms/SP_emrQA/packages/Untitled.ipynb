{
 "cells": [
  {
   "cell_type": "code",
   "execution_count": 1,
   "metadata": {
    "collapsed": true
   },
   "outputs": [],
   "source": [
    "import torch\n",
    "from torch.autograd import Variable\n",
    "import numpy as np"
   ]
  },
  {
   "cell_type": "code",
   "execution_count": 2,
   "metadata": {
    "collapsed": true
   },
   "outputs": [],
   "source": [
    "A = torch.Tensor(30,5).zero_()"
   ]
  },
  {
   "cell_type": "code",
   "execution_count": 3,
   "metadata": {
    "collapsed": true
   },
   "outputs": [],
   "source": [
    "B = torch.Tensor(30,5)"
   ]
  },
  {
   "cell_type": "code",
   "execution_count": 4,
   "metadata": {
    "collapsed": true
   },
   "outputs": [],
   "source": [
    "A = Variable(A)\n",
    "B = Variable(B)"
   ]
  },
  {
   "cell_type": "code",
   "execution_count": 6,
   "metadata": {},
   "outputs": [
    {
     "data": {
      "text/plain": [
       "Variable containing:\n",
       "    0     0     0     0     0\n",
       "    1     0     1     1     1\n",
       "    1     1     1     1     0\n",
       "    1     1     1     1     1\n",
       "    0     1     1     1     1\n",
       "    1     1     1     1     1\n",
       "    1     1     0     0     1\n",
       "    1     1     1     0     1\n",
       "    1     1     1     1     1\n",
       "    1     1     1     1     1\n",
       "    0     0     1     1     1\n",
       "    1     0     1     0     1\n",
       "    0     1     0     0     0\n",
       "    0     0     1     1     1\n",
       "    1     1     1     1     0\n",
       "    1     1     1     1     1\n",
       "    1     1     1     1     1\n",
       "    1     1     1     1     1\n",
       "    1     1     0     1     1\n",
       "    1     1     1     0     1\n",
       "    1     1     1     1     1\n",
       "    1     1     1     1     1\n",
       "    0     1     1     1     1\n",
       "    1     1     1     0     1\n",
       "    0     1     0     1     0\n",
       "    0     0     1     1     1\n",
       "    1     1     1     1     0\n",
       "    1     1     1     1     1\n",
       "    0     0     0     0     0\n",
       "    0     0     0     0     0\n",
       "[torch.ByteTensor of size 30x5]"
      ]
     },
     "execution_count": 6,
     "metadata": {},
     "output_type": "execute_result"
    }
   ],
   "source": [
    "A==B"
   ]
  },
  {
   "cell_type": "code",
   "execution_count": null,
   "metadata": {},
   "outputs": [],
   "source": [
    "type((A==B).sum())"
   ]
  },
  {
   "cell_type": "code",
   "execution_count": 7,
   "metadata": {},
   "outputs": [
    {
     "data": {
      "text/plain": [
       "108"
      ]
     },
     "execution_count": 7,
     "metadata": {},
     "output_type": "execute_result"
    }
   ],
   "source": [
    "(A==B).sum().data[0]"
   ]
  },
  {
   "cell_type": "code",
   "execution_count": null,
   "metadata": {
    "collapsed": true
   },
   "outputs": [],
   "source": []
  }
 ],
 "metadata": {
  "kernelspec": {
   "display_name": "Python [conda env:pytorch]",
   "language": "python",
   "name": "conda-env-pytorch-py"
  },
  "language_info": {
   "codemirror_mode": {
    "name": "ipython",
    "version": 3
   },
   "file_extension": ".py",
   "mimetype": "text/x-python",
   "name": "python",
   "nbconvert_exporter": "python",
   "pygments_lexer": "ipython3",
   "version": "3.5.3"
  }
 },
 "nbformat": 4,
 "nbformat_minor": 2
}
